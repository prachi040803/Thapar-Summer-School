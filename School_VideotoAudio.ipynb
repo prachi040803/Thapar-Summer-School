{
  "nbformat": 4,
  "nbformat_minor": 0,
  "metadata": {
    "colab": {
      "provenance": [],
      "authorship_tag": "ABX9TyMJPThe1OwpBIlcLxwLgCUO",
      "include_colab_link": true
    },
    "kernelspec": {
      "name": "python3",
      "display_name": "Python 3"
    },
    "language_info": {
      "name": "python"
    }
  },
  "cells": [
    {
      "cell_type": "markdown",
      "metadata": {
        "id": "view-in-github",
        "colab_type": "text"
      },
      "source": [
        "<a href=\"https://colab.research.google.com/github/prachi040803/Thapar-Summer-School/blob/main/School_VideotoAudio.ipynb\" target=\"_parent\"><img src=\"https://colab.research.google.com/assets/colab-badge.svg\" alt=\"Open In Colab\"/></a>"
      ]
    },
    {
      "cell_type": "markdown",
      "source": [
        "# ***Video to Audio Coversion***"
      ],
      "metadata": {
        "id": "T2QI2-95z_K2"
      }
    },
    {
      "cell_type": "markdown",
      "source": [
        "***Installing*** ***Packages*** - Moviepy - A python Library for video editing and other basic operations - concatenations and insertions."
      ],
      "metadata": {
        "id": "M-mBzFHO0m7y"
      }
    },
    {
      "cell_type": "code",
      "execution_count": null,
      "metadata": {
        "id": "qR7IEfK2z2pN"
      },
      "outputs": [],
      "source": [
        "!pip install moviepy"
      ]
    },
    {
      "cell_type": "markdown",
      "source": [
        "Installing more packages for video to audio conversion which deals with ffmpeg which enables us to read and write video files."
      ],
      "metadata": {
        "id": "1oDHxpXt7E5r"
      }
    },
    {
      "cell_type": "code",
      "source": [
        "!pip3 install imageio==2.4.1 "
      ],
      "metadata": {
        "id": "imRmo3aD6RYi"
      },
      "execution_count": null,
      "outputs": []
    },
    {
      "cell_type": "code",
      "source": [
        "!pip install imageio-ffmpeg"
      ],
      "metadata": {
        "id": "2EQawQ8H7K_h"
      },
      "execution_count": null,
      "outputs": []
    },
    {
      "cell_type": "code",
      "source": [
        "\n",
        "from moviepy.editor import VideoFileClip\n",
        "import os\n",
        "def convert_video_to_audio_moviepy(video_file, output_ext=\"mp3\"):\n",
        "    \"\"\"Converts video to audio using MoviePy library\n",
        "    that uses `ffmpeg` under the hood\"\"\"\n",
        "    filename, ext = os.path.splitext(video_file)\n",
        "    clip = VideoFileClip(video_file)\n",
        "    clip.audio.write_audiofile(f\"{filename}.{output_ext}\")\n",
        "     \n"
      ],
      "metadata": {
        "id": "XGM1kjum4UrS"
      },
      "execution_count": null,
      "outputs": []
    },
    {
      "cell_type": "markdown",
      "source": [
        "Uploading the video that needs to be converted in the drive or in memory for runtime.\n",
        "Then code for final conversion."
      ],
      "metadata": {
        "id": "uHqJedlE7Wnv"
      }
    },
    {
      "cell_type": "code",
      "source": [
        "convert_video_to_audio_moviepy('/content/sample_data/test.mp4')"
      ],
      "metadata": {
        "id": "i3IIL6B24tdr"
      },
      "execution_count": null,
      "outputs": []
    }
  ]
}