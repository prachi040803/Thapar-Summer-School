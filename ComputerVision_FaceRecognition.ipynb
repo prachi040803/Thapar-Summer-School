{
  "nbformat": 4,
  "nbformat_minor": 0,
  "metadata": {
    "colab": {
      "provenance": [],
      "include_colab_link": true
    },
    "kernelspec": {
      "name": "python3",
      "display_name": "Python 3"
    },
    "language_info": {
      "name": "python"
    },
    "accelerator": "GPU"
  },
  "cells": [
    {
      "cell_type": "markdown",
      "metadata": {
        "id": "view-in-github",
        "colab_type": "text"
      },
      "source": [
        "<a href=\"https://colab.research.google.com/github/prachi040803/Thapar-Summer-School/blob/main/ComputerVision_FaceRecognition.ipynb\" target=\"_parent\"><img src=\"https://colab.research.google.com/assets/colab-badge.svg\" alt=\"Open In Colab\"/></a>"
      ]
    },
    {
      "cell_type": "markdown",
      "source": [
        "# <center>**COMPUTER VISION - FACE RECOGNITION**</center>\n",
        "\n"
      ],
      "metadata": {
        "id": "oyTNfUw4sf1S"
      }
    },
    {
      "cell_type": "markdown",
      "source": [
        "# **Problem statement:**\n",
        "\n",
        "Computer Vision technology finds applications in various industries such as security, automatic access control system and social media. We can develop models for Face detection and recognition and tracking program with this.\n",
        "\n",
        "---"
      ],
      "metadata": {
        "id": "WVNrXNXbsKzK"
      }
    },
    {
      "cell_type": "markdown",
      "source": [
        "# **Description of problem:**\n",
        "\n",
        "Object Detection and Face recognition are probably the most popular applications of computer vision. However, Face Recognition is not straightforward because it has lots of variations of image appearance, pose variation, orientation and facial expression.\n",
        "\n",
        "The project aids faculty and students to seamlessly and efficiently mark their attendance. It is a real time, automated system.The **system works automatically by capturing the picture on entry and matching it with a pre existing set of images** from the database of that particular class, and simultaneously marking it to a csv file for quick access.Further, the time for each entry is also stamped, which acts as an added security feature.\n",
        "\n",
        "\n",
        "\n",
        "---\n",
        "\n"
      ],
      "metadata": {
        "id": "Mb6BGApnNOCc"
      }
    },
    {
      "cell_type": "markdown",
      "source": [
        "# **Code and Explanation**"
      ],
      "metadata": {
        "id": "d5sE-zpD2GvG"
      }
    },
    {
      "cell_type": "markdown",
      "source": [
        "\n",
        "\n",
        "--- \n",
        "\n"
      ],
      "metadata": {
        "id": "R62iR_N5xl48"
      }
    },
    {
      "cell_type": "code",
      "source": [
        "# The following is our approach to the problem. \n",
        "# 1. Extract all jpg files from the given folder.\n",
        "# 2. Extract names from the image file.\n",
        "# 3. Encode images to binary files.\n",
        "# 4. Create functions to mark attendance and enable webcam.\n",
        "# 5. Compare the images and mark attendance in csv file.\n",
        "# 6. Print result.\n"
      ],
      "metadata": {
        "id": "xcakT7aWNUGN"
      },
      "execution_count": 1,
      "outputs": []
    },
    {
      "cell_type": "markdown",
      "source": [
        "\n",
        "\n",
        "---\n",
        "\n",
        "\n",
        "Attendance - Computer Vision Folder is to be added before we run the program:\n",
        "\n",
        "Here is the link to this folder:\n",
        "https://drive.google.com/drive/folders/1eRbLiSLgU8w11YchBAIlIDEuShXzELWA?usp=sharing\n",
        " \n",
        "\n",
        "* Attendance - Computer Vision would have pictures of students whom we **expect** to see in the class.\n",
        "\n"
      ],
      "metadata": {
        "id": "zOx1Iwu90NcW"
      }
    },
    {
      "cell_type": "code",
      "source": [
        "from google.colab import drive\n",
        "drive.mount('/content/drive')"
      ],
      "metadata": {
        "id": "BV5klr1g5GiB"
      },
      "execution_count": null,
      "outputs": []
    },
    {
      "cell_type": "markdown",
      "source": [
        "---\n",
        "\n",
        "We use pip install face_recognition because we google colab doesn't have face_recognition installed in it plus we also change aur runtime to GPU to support the library.\n",
        "\n",
        "---"
      ],
      "metadata": {
        "id": "w-H_dLd3sFyu"
      }
    },
    {
      "cell_type": "code",
      "source": [
        "!pip install face_recognition"
      ],
      "metadata": {
        "id": "wMMaCflGaFsZ"
      },
      "execution_count": null,
      "outputs": []
    },
    {
      "cell_type": "markdown",
      "source": [
        "---\n",
        "\n",
        "IMPORTING USED MODULES\n",
        "\n",
        "Brief description of the imported modules:\n",
        "\n",
        "1. **cv2:** OpenCV-Python is a library of Python bindings designed to solve computer vision problems. cv2. imshow() method is used to display an image in a window. The window automatically fits to the image size.\n",
        "\n",
        "2. **numpy:** NumPy contains a multi-dimensional array and matrix data structures. It can be utilised to perform a number of mathematical operations on arrays\n",
        "\n",
        "3. **face recognition:** Recognize and manipulate faces from Python or from the command line. It finds the faces that appear in a picture.\n",
        "\n",
        "4. **matplotlib:** Matplotlib is a multi-platform data visualization library built on NumPy arrays.  It allows us visual access to huge amounts of data in easily digestible visuals. Matplotlib consists of several plots like line, bar, scatter, histogram etc.\n",
        "\n",
        "5. **dlib:** It's a facial detector with pre-trained models, the dlib is used to estimate the location of 68 coordinates (x, y) that map the facial points on a person's face.\n",
        "\n",
        "6. **os:** OS comes under Python's standard utility modules. This module provides a portable way of using operating system-dependent functionality.\n",
        "The OS module in Python provides functions for creating and removing a directory (folder), fetching its contents, changing and identifying the current directory, etc.\n",
        "\n",
        "---"
      ],
      "metadata": {
        "id": "J7zYO4NZKPD4"
      }
    },
    {
      "cell_type": "code",
      "execution_count": 4,
      "metadata": {
        "id": "2BtjnjXlX2pP"
      },
      "outputs": [],
      "source": [
        "import cv2 \n",
        "import numpy as np\n",
        "import face_recognition\n",
        "import matplotlib.pyplot as plt\n",
        "import dlib\n",
        "import os"
      ]
    },
    {
      "cell_type": "markdown",
      "source": [
        "---\n",
        "\n",
        "The following is a shell script that is used to create a \n",
        "file, Attendance.csv\n",
        "\n",
        "This would store the attendacne of the students.\n",
        "\n",
        "---"
      ],
      "metadata": {
        "id": "TJIXlw7drHXz"
      }
    },
    {
      "cell_type": "code",
      "source": [
        "!touch Attendance.csv"
      ],
      "metadata": {
        "id": "-AlmkNrjq86I"
      },
      "execution_count": 5,
      "outputs": []
    },
    {
      "cell_type": "markdown",
      "source": [
        "\n",
        "---\n",
        "\n",
        "Directory (content/ImageAttendance) containing all the students who should be \n",
        "present in the class and then extracting all the images from the same\n",
        "\n",
        "The images for each of the student is stored in the images array and their respective names are stored in the classNAmes array.\n",
        "\n",
        "mylist stores all the files under the directory be it a folder or a file (hidden as well).\n",
        "\n",
        "curImg reads each image file, if the file format is jpg or jpeg or png then it stores it into the images array.\n",
        "\n",
        "\n",
        "Note:\n",
        "os.path.splitext() method in Python is used to split the path name into a pair root and ext. Here, ext stands for extension and has the extension portion of the specified path while root is everything except ext part.\n",
        "so we store the name of the image which happens to be the name of the student as well.\n",
        "\n",
        "---\n"
      ],
      "metadata": {
        "id": "jjM-G-IzKS9k"
      }
    },
    {
      "cell_type": "code",
      "source": [
        "path = '/content/drive/MyDrive/Attendance - Computer Vision'\n",
        "images=[]\n",
        "classNames =[]\n",
        "mylist = os.listdir(path)\n",
        "for cl in mylist:\n",
        "  if '.jpg' in cl or '.jpeg' in cl or '.png' in cl:\n",
        "    curImg = cv2.imread(f'{path}/{cl}')\n",
        "    images.append(curImg)\n",
        "    classNames.append(os.path.splitext(cl)[0])"
      ],
      "metadata": {
        "id": "94TyazFMss_H"
      },
      "execution_count": 6,
      "outputs": []
    },
    {
      "cell_type": "markdown",
      "source": [
        "---\n",
        "\n",
        "getEncodings function is used to get the encoding of the images extracted from the directory\n",
        "\n",
        "For each of the images that we stored in the images array, we will encode the image. Which means to convert it into a binary array and then will add this to the encodeList. This list stores array of these \"binary array\" for each of the images.\n",
        "\n",
        "---"
      ],
      "metadata": {
        "id": "AmWjnHSSKgeR"
      }
    },
    {
      "cell_type": "code",
      "source": [
        "def getEncodings(images):\n",
        "  encodeList = []\n",
        "  for img in images:\n",
        "    try:\n",
        "      encode = face_recognition.face_encodings(img)[0]\n",
        "      encodeList.append(encode)\n",
        "    except IndexError as e:\n",
        "      print(e)\n",
        "  return encodeList"
      ],
      "metadata": {
        "id": "2YmV61NDu3X2"
      },
      "execution_count": 7,
      "outputs": []
    },
    {
      "cell_type": "markdown",
      "source": [
        "---\n",
        "\n",
        "The following code will create a csv file. mrkattendance function is used to mark attendance of the person who entered the class room.\n",
        "\n",
        "/content/Attendance.csv stores a list of students who are expected to be in class.\n",
        "\n",
        "the namelist, list will be storing the students who are actually present in class. \n",
        "\n",
        "now we pick analyse each entry from the data read from the CSV and then see seperate the time and name portion so that we can save the already present people in class itself.\n",
        "\n",
        "Then we check if the name already occurs in the namelist. If not then append with date time and subsequently print a success message.\n",
        "\n",
        "---"
      ],
      "metadata": {
        "id": "iubaK6qYKrV9"
      }
    },
    {
      "cell_type": "code",
      "source": [
        "from datetime import datetime\n",
        "def markattendance(name):\n",
        "  with open('/content/Attendance.csv','r+') as f:\n",
        "    mydata = f.readline()\n",
        "    namelist = []\n",
        "    for line in mydata:\n",
        "      entry = line.split(',')\n",
        "      namelist.append(entry[0])\n",
        "    if name not in namelist:\n",
        "      now = datetime.now()\n",
        "      dtString = now.strftime('%H:%M:%S')\n",
        "      f.writelines(f'\\n{name},{dtString}')\n",
        "      print(f'Attendance Marked Successfully!!\\nWelcome {name.capitalize()}')\n",
        "    f.close()"
      ],
      "metadata": {
        "id": "eiJZjuFx4X72"
      },
      "execution_count": 8,
      "outputs": []
    },
    {
      "cell_type": "markdown",
      "source": [
        "---\n",
        "\n",
        "This line gets the list of encodings of all the images(read earlier on in the 3rd cell itself from the ImageAttendance folder) so that we can compare it with the people who are coming to attend the class to mark their attendance.\n",
        "\n",
        "---"
      ],
      "metadata": {
        "id": "3OgKWlndv1NH"
      }
    },
    {
      "cell_type": "code",
      "source": [
        "encodingListKnown = getEncodings(images)"
      ],
      "metadata": {
        "id": "znfSpdMsu_-F"
      },
      "execution_count": 9,
      "outputs": []
    },
    {
      "cell_type": "markdown",
      "source": [
        "---\n",
        "\n",
        "This function is used to take pictures from the webcam for simulation purposes.\n",
        "\n",
        "brief of the libraries used for this purpose:\n",
        "1. **IPython.display.display_javascript:** Used to display the Javascript representation of an object.\n",
        "\n",
        "2. **google.colab.output:** Evaluates the Javascript expression within the context of the outputframe of the current cell.\n",
        "This executes the Javascript as a blocking call from Python and returns the result of the expression.\n",
        "3. **base64:** Base64 encoding schemes are commonly used when there is a need to encode binary data that needs to be stored and transferred over media that are designed to deal with ASCII. This is to ensure that the data remain intact without modification during transport.\n",
        "\n",
        "---"
      ],
      "metadata": {
        "id": "SenwlDTGLn_I"
      }
    },
    {
      "cell_type": "code",
      "source": [
        "from IPython.display import display, Javascript\n",
        "from google.colab.output import eval_js\n",
        "from base64 import b64decode\n",
        "\n",
        "def take_photo(filename='photo.jpg', quality=0.8):\n",
        "  js = Javascript('''\n",
        "    async function takePhoto(quality) {\n",
        "      const div = document.createElement('div');\n",
        "      const capture = document.createElement('button');\n",
        "      capture.textContent = 'Capture';\n",
        "      div.appendChild(capture);\n",
        "\n",
        "      const video = document.createElement('video');\n",
        "      video.style.display = 'block';\n",
        "      const stream = await navigator.mediaDevices.getUserMedia({video: true});\n",
        "\n",
        "      document.body.appendChild(div);\n",
        "      div.appendChild(video);\n",
        "      video.srcObject = stream;\n",
        "      await video.play();\n",
        "\n",
        "      // Resize the output to fit the video element.\n",
        "      google.colab.output.setIframeHeight(document.documentElement.scrollHeight, true);\n",
        "\n",
        "      // Wait for Capture to be clicked.\n",
        "      await new Promise((resolve) => capture.onclick = resolve);\n",
        "\n",
        "      const canvas = document.createElement('canvas');\n",
        "      canvas.width = video.videoWidth;\n",
        "      canvas.height = video.videoHeight;\n",
        "      canvas.getContext('2d').drawImage(video, 0, 0);\n",
        "      stream.getVideoTracks()[0].stop();\n",
        "      div.remove();\n",
        "      return canvas.toDataURL('image/jpeg', quality);\n",
        "    }\n",
        "    ''')\n",
        "  display(js)\n",
        "  data = eval_js('takePhoto({})'.format(quality))\n",
        "  binary = b64decode(data.split(',')[1])\n",
        "  with open(filename, 'wb') as f:\n",
        "    f.write(binary)\n",
        "  return filename"
      ],
      "metadata": {
        "id": "IqAf3ltPH93a"
      },
      "execution_count": 10,
      "outputs": []
    },
    {
      "cell_type": "markdown",
      "source": [
        "---\n",
        "\n",
        "**Capturing a photo**\n",
        "\n",
        "Here we call the function that we defined in the previous cell.\n",
        "After capturing the picture, we name it and save it. \n",
        "\n",
        "A success or an error message is displayed depending on the operation.\n",
        "\n",
        "---"
      ],
      "metadata": {
        "id": "HY0kbLOpLvWv"
      }
    },
    {
      "cell_type": "code",
      "source": [
        "from IPython.display import Image\n",
        "try:\n",
        "  filename = take_photo('test.jpg')\n",
        "  print(f'Saved to {filename}')\n",
        "except Exception as err:\n",
        "  print(str(err))"
      ],
      "metadata": {
        "id": "FHAj2z-PH93b"
      },
      "execution_count": null,
      "outputs": []
    },
    {
      "cell_type": "markdown",
      "source": [
        "---\n",
        "Analyzing the captured photo to mark the attendance: \n",
        "\n",
        "After the person has been captured by the camera the program would run to compare it with the faces of the people who are supposed to be in the class to mark the person's attendance accordingly.\n",
        "\n",
        "---"
      ],
      "metadata": {
        "id": "KeidCwhRLxcH"
      }
    },
    {
      "cell_type": "code",
      "source": [
        "imgTest = face_recognition.load_image_file('/content/test.jpg')"
      ],
      "metadata": {
        "id": "p290gUL-Yc9D"
      },
      "execution_count": 12,
      "outputs": []
    },
    {
      "cell_type": "markdown",
      "source": [
        "---\n",
        "\n",
        "The following code simply extracts the face out of the image captured by the camera. \n",
        "\n",
        "if we uncomment the third line then we can display a rectagle over the detected face.(for ease of understanding)\n",
        "\n",
        "---"
      ],
      "metadata": {
        "id": "B-pClckXxeAM"
      }
    },
    {
      "cell_type": "code",
      "source": [
        "faceLocTest = face_recognition.face_locations(imgTest)[0]\n",
        "encodeTest = face_recognition.face_encodings(imgTest)[0]\n",
        "#cv2.rectangle(imgTest,(faceLocTest[3],faceLocTest[0]),(faceLocTest[1],faceLocTest[2]),(255,0,255),2)"
      ],
      "metadata": {
        "id": "-6x3eKPddRHh"
      },
      "execution_count": 13,
      "outputs": []
    },
    {
      "cell_type": "markdown",
      "source": [
        "---\n",
        "to display the image we use matplotlib's functions imshow() and show()\n",
        "\n",
        "---"
      ],
      "metadata": {
        "id": "_r7idWsExgI6"
      }
    },
    {
      "cell_type": "code",
      "source": [
        "plt.imshow(imgTest)\n",
        "plt.show()"
      ],
      "metadata": {
        "id": "jj3j2pz2G6gk"
      },
      "execution_count": null,
      "outputs": []
    },
    {
      "cell_type": "markdown",
      "source": [
        "---\n",
        "\n",
        "This code cell is used to mark the attendance of the person who has been detected in the capture picture. \n",
        "\n",
        "---"
      ],
      "metadata": {
        "id": "bvAtNXlyL6Sm"
      }
    },
    {
      "cell_type": "code",
      "source": [
        "match = face_recognition.compare_faces(encodingListKnown,encodeTest)\n",
        "results = face_recognition.face_distance(encodingListKnown,encodeTest)\n",
        "matchIndex = np.argmin(results)\n",
        "if(match[matchIndex]):\n",
        "  name = classNames[matchIndex].upper()\n",
        "  markattendance(name)\n",
        "else:\n",
        "  print('Wrong Class!!')"
      ],
      "metadata": {
        "id": "0LFgG09bw5RL"
      },
      "execution_count": null,
      "outputs": []
    }
  ]
}